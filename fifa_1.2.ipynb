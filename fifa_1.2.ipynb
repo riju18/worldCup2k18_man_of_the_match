{
 "cells": [
  {
   "cell_type": "code",
   "execution_count": null,
   "metadata": {},
   "outputs": [],
   "source": [
    "from sklearn.model_selection import train_test_split\n",
    "from sklearn.neighbors import KNeighborsClassifier\n",
    "from sklearn.metrics import accuracy_score,precision_score,recall_score,f1_score,confusion_matrix\n",
    "from sklearn.linear_model import LogisticRegression\n",
    "from sklearn.naive_bayes import GaussianNB\n",
    "from sklearn.naive_bayes import MultinomialNB\n",
    "from sklearn.metrics import confusion_matrix\n",
    "from sklearn.metrics import mean_squared_error\n",
    "from sklearn.preprocessing import normalize\n",
    "from sklearn.feature_extraction.text import TfidfVectorizer\n",
    "from sklearn.feature_extraction.text import CountVectorizer\n",
    "from sklearn.linear_model import LinearRegression\n",
    "from sklearn.svm import LinearSVC\n",
    "from sklearn.tree import DecisionTreeClassifier\n",
    "from sklearn.tree import DecisionTreeRegressor\n",
    "from sklearn.ensemble import RandomForestClassifier, AdaBoostClassifier\n",
    "from sklearn.neural_network import MLPClassifier\n",
    "from sklearn.discriminant_analysis import QuadraticDiscriminantAnalysis\n",
    "from sklearn.datasets import load_iris\n",
    "from sklearn.tree import export_graphviz\n",
    "\n",
    "import pandas as pd\n",
    "from pandas import Series\n",
    "from sklearn import tree\n",
    "from sklearn import datasets\n",
    "from IPython.display import Image\n",
    "import pydotplus\n",
    "import numpy as np\n",
    "import csv\n",
    "import matplotlib.pyplot as plt\n",
    "import graphviz"
   ]
  },
  {
   "cell_type": "code",
   "execution_count": null,
   "metadata": {},
   "outputs": [],
   "source": [
    "f1Score = {}\n",
    "precisionScore = {}\n",
    "recallScore = {}"
   ]
  },
  {
   "cell_type": "code",
   "execution_count": null,
   "metadata": {},
   "outputs": [],
   "source": [
    "df = pd.read_csv('FIFA18.csv',encoding='utf-8',error_bad_lines=False,index_col=0)\n",
    "print(df.head(5))"
   ]
  },
  {
   "cell_type": "code",
   "execution_count": 107,
   "metadata": {},
   "outputs": [
    {
     "name": "stdout",
     "output_type": "stream",
     "text": [
      "          Goal Scored  Ball Possession %  Attempts  On-Target  Off-Target  \\\n",
      "Date                                                                        \n",
      "14-06-18            5                 40        13          7           3   \n",
      "14-06-18            0                 60         6          0           3   \n",
      "15-06-18            0                 43         8          3           3   \n",
      "15-06-18            1                 57        14          4           6   \n",
      "15-06-18            0                 64        13          3           6   \n",
      "\n",
      "          Blocked  Corners  Offsides  Free Kicks  Saves  Pass Accuracy %  \\\n",
      "Date                                                                       \n",
      "14-06-18        3        6         3          11      0               78   \n",
      "14-06-18        3        2         1          25      2               86   \n",
      "15-06-18        2        0         1           7      3               78   \n",
      "15-06-18        4        5         1          13      3               86   \n",
      "15-06-18        4        5         0          14      2               86   \n",
      "\n",
      "          Passes  Distance Covered (Kms)  Fouls  Yellow   Yellow & Red  Red  \\\n",
      "Date                                                                          \n",
      "14-06-18     306                     118     22        0             0    0   \n",
      "14-06-18     511                     105     10        0             0    0   \n",
      "15-06-18     395                     112     12        2             0    0   \n",
      "15-06-18     589                     111      6        0             0    0   \n",
      "15-06-18     433                     101     22        1             0    0   \n",
      "\n",
      "         Man of the Match PSO  Goals in PSO  \n",
      "Date                                         \n",
      "14-06-18              Yes  No             0  \n",
      "14-06-18               No  No             0  \n",
      "15-06-18               No  No             0  \n",
      "15-06-18              Yes  No             0  \n",
      "15-06-18               No  No             0  \n"
     ]
    }
   ],
   "source": [
    "# drop 'Team', 'Opponent', '1st Goal', 'Round','Own goals','Own goal Time' column & update df\n",
    "df = df.drop(columns=['Team', 'Opponent', '1st Goal', 'Round','Own goals','Own goal Time'])\n",
    "print(df.head(5))"
   ]
  },
  {
   "cell_type": "code",
   "execution_count": null,
   "metadata": {},
   "outputs": [],
   "source": [
    "# data train & test\n",
    "X = df[['Goal Scored','Ball Possession %','Attempts','On-Target','Off-Target','Blocked','Saves','Pass Accuracy %','Passes','Fouls']]\n",
    "Y = df[['Man of the Match']]\n",
    "x_train, x_test, y_train, y_test = train_test_split(X[['Goal Scored','Ball Possession %','Attempts','On-Target','Off-Target','Blocked','Saves','Pass Accuracy %','Passes','Fouls']],Y[['Man of the Match']],test_size=0.2,random_state=37)"
   ]
  },
  {
   "cell_type": "code",
   "execution_count": null,
   "metadata": {},
   "outputs": [],
   "source": [
    "# decision tree\n",
    "tree = DecisionTreeClassifier(random_state=0)\n",
    "tree.fit(x_train,y_train)\n",
    "print('accuracy of training data:', format(tree.score(x_train,y_train)*100),'%')\n",
    "print('accuracy of testing data:', format(tree.score(x_test,y_test)*100),'%')"
   ]
  },
  {
   "cell_type": "code",
   "execution_count": 110,
   "metadata": {},
   "outputs": [
    {
     "data": {
      "text/plain": [
       "DecisionTreeClassifier(class_weight=None, criterion='gini', max_depth=3,\n",
       "            max_features=None, max_leaf_nodes=None,\n",
       "            min_impurity_decrease=0.0, min_impurity_split=None,\n",
       "            min_samples_leaf=5, min_samples_split=2,\n",
       "            min_weight_fraction_leaf=0.0, presort=False, random_state=100,\n",
       "            splitter='best')"
      ]
     },
     "execution_count": 110,
     "metadata": {},
     "output_type": "execute_result"
    }
   ],
   "source": [
    "# making decission tree with gini\n",
    "\n",
    "clf_gini = DecisionTreeClassifier(criterion = \"gini\", random_state = 100,\n",
    "                               max_depth=3, min_samples_leaf=5)\n",
    "clf_gini.fit(x_train, y_train)"
   ]
  },
  {
   "cell_type": "code",
   "execution_count": 115,
   "metadata": {},
   "outputs": [
    {
     "data": {
      "text/plain": [
       "array(['Yes'], dtype=object)"
      ]
     },
     "execution_count": 115,
     "metadata": {},
     "output_type": "execute_result"
    }
   ],
   "source": [
    "# check single data with gini\n",
    "clf_gini.predict([[2, 51, 12, 5, 4, 3, 1, 87, 484, 16]])"
   ]
  },
  {
   "cell_type": "code",
   "execution_count": 116,
   "metadata": {},
   "outputs": [
    {
     "data": {
      "text/plain": [
       "DecisionTreeClassifier(class_weight=None, criterion='entropy', max_depth=3,\n",
       "            max_features=None, max_leaf_nodes=None,\n",
       "            min_impurity_decrease=0.0, min_impurity_split=None,\n",
       "            min_samples_leaf=5, min_samples_split=2,\n",
       "            min_weight_fraction_leaf=0.0, presort=False, random_state=100,\n",
       "            splitter='best')"
      ]
     },
     "execution_count": 116,
     "metadata": {},
     "output_type": "execute_result"
    }
   ],
   "source": [
    "# making decission tree with information gain/entropy\n",
    "\n",
    "clf_entropy = DecisionTreeClassifier(criterion = \"entropy\", random_state = 100,\n",
    " max_depth=3, min_samples_leaf=5)\n",
    "clf_entropy.fit(x_train, y_train)"
   ]
  },
  {
   "cell_type": "code",
   "execution_count": 117,
   "metadata": {},
   "outputs": [
    {
     "data": {
      "text/plain": [
       "array(['Yes'], dtype=object)"
      ]
     },
     "execution_count": 117,
     "metadata": {},
     "output_type": "execute_result"
    }
   ],
   "source": [
    "# check single data with entropy\n",
    "clf_entropy.predict([[2, 51, 12, 5, 4, 3, 1, 87, 484, 16]])"
   ]
  },
  {
   "cell_type": "code",
   "execution_count": 118,
   "metadata": {},
   "outputs": [
    {
     "name": "stdout",
     "output_type": "stream",
     "text": [
      "gini prediction:  ['No' 'No' 'Yes' 'No' 'No' 'No' 'Yes' 'No' 'Yes' 'Yes' 'No' 'No' 'No'\n",
      " 'Yes' 'No' 'Yes' 'Yes' 'Yes' 'No' 'No' 'No' 'Yes' 'No' 'Yes' 'Yes' 'Yes'] \n",
      "\n",
      "\n",
      "entropy prediction:  ['No' 'No' 'Yes' 'No' 'No' 'No' 'Yes' 'No' 'Yes' 'Yes' 'No' 'No' 'No'\n",
      " 'Yes' 'No' 'Yes' 'Yes' 'Yes' 'No' 'No' 'No' 'Yes' 'No' 'Yes' 'Yes' 'Yes']\n"
     ]
    }
   ],
   "source": [
    "# predict test data\n",
    "y_pred_gini = clf_gini.predict(x_test)\n",
    "y_pred_en = clf_entropy.predict(x_test)\n",
    "print('gini prediction: ',y_pred_gini,'\\n\\n')\n",
    "print('entropy prediction: ',y_pred_en)"
   ]
  },
  {
   "cell_type": "code",
   "execution_count": 119,
   "metadata": {},
   "outputs": [
    {
     "name": "stdout",
     "output_type": "stream",
     "text": [
      "accuracy of test data in gini:  53.84615384615385 %\n",
      "\n",
      "\n",
      "Accuracy of test data in entropy:  53.84615384615385 %\n"
     ]
    }
   ],
   "source": [
    "# accuracy of gini\n",
    "print(\"accuracy of test data in gini: \", accuracy_score(y_test,y_pred_gini)*100,\"%\\n\\n\" )\n",
    "\n",
    "# accuracy of entropy\n",
    "print(\"Accuracy of test data in entropy: \", accuracy_score(y_test,y_pred_en)*100,\"%\" )"
   ]
  },
  {
   "cell_type": "code",
   "execution_count": 120,
   "metadata": {},
   "outputs": [
    {
     "name": "stdout",
     "output_type": "stream",
     "text": [
      "accuracy of training data(logistic regression):  75.49019607843137 %\n",
      "accuracy of test data (logistic regression):  57.692307692307686 %\n",
      "\n",
      "\n",
      "confusion_matrix:\n",
      "\n",
      "[[8 8]\n",
      " [3 7]]\n"
     ]
    },
    {
     "name": "stderr",
     "output_type": "stream",
     "text": [
      "c:\\python\\python37\\lib\\site-packages\\sklearn\\utils\\validation.py:578: DataConversionWarning: A column-vector y was passed when a 1d array was expected. Please change the shape of y to (n_samples, ), for example using ravel().\n",
      "  y = column_or_1d(y, warn=True)\n"
     ]
    }
   ],
   "source": [
    "# logistic regression\n",
    "LG = LogisticRegression()\n",
    "LG.fit(x_train,y_train)\n",
    "predictions = LG.predict(x_test)\n",
    "print('accuracy of training data(logistic regression): ', format(LG.score(x_train,y_train)*100),'%')\n",
    "print('accuracy of test data (logistic regression): ', format(LG.score(x_test,y_test)*100),'%\\n\\n')\n",
    "precisionScore['logistic regression'] = format(precision_score(y_test, predictions, average=\"macro\")*100,'.2f')\n",
    "recallScore['logistic regression'] = format(recall_score(y_test, predictions, average=\"macro\")*100,'.2f')\n",
    "f1Score['logistic regression'] = format(f1_score(y_test, predictions, average=\"macro\")*100,'.2f')\n",
    "cm = confusion_matrix(y_test, predictions)\n",
    "print('confusion_matrix:\\n')\n",
    "print(cm)"
   ]
  },
  {
   "cell_type": "code",
   "execution_count": 121,
   "metadata": {},
   "outputs": [
    {
     "name": "stdout",
     "output_type": "stream",
     "text": [
      "accuracy of training data(naive bayes classifier):  73.52941176470588 %\n",
      "accuracy of test data(naive bayes classifier):  50.0 %\n",
      "\n",
      "\n",
      "confusion_matrix:\n",
      "\n",
      "[[ 6 10]\n",
      " [ 3  7]]\n"
     ]
    },
    {
     "name": "stderr",
     "output_type": "stream",
     "text": [
      "c:\\python\\python37\\lib\\site-packages\\sklearn\\utils\\validation.py:578: DataConversionWarning: A column-vector y was passed when a 1d array was expected. Please change the shape of y to (n_samples, ), for example using ravel().\n",
      "  y = column_or_1d(y, warn=True)\n"
     ]
    }
   ],
   "source": [
    "#naive bayes classifier\n",
    "\n",
    "NB = GaussianNB()\n",
    "NB.fit(x_train,y_train)\n",
    "predictions = NB.predict(x_test)\n",
    "print('accuracy of training data(naive bayes classifier): ', format(NB.score(x_train,y_train)*100), '%')\n",
    "print('accuracy of test data(naive bayes classifier): ', format(NB.score(x_test,y_test)*100), '%\\n\\n')\n",
    "precisionScore['naive'] = format(precision_score(y_test, predictions, average=\"macro\")*100,'.2f')\n",
    "recallScore['naive'] = format(recall_score(y_test, predictions, average=\"macro\")*100,'.2f')\n",
    "f1Score['naive'] = format(f1_score(y_test, predictions, average=\"macro\")*100,'.2f')\n",
    "cm = confusion_matrix(y_test, predictions)\n",
    "print('confusion_matrix:\\n')\n",
    "print(cm)"
   ]
  },
  {
   "cell_type": "code",
   "execution_count": 122,
   "metadata": {},
   "outputs": [
    {
     "name": "stdout",
     "output_type": "stream",
     "text": [
      "accuracy of training data( random forest ):  98.0392156862745 %\n",
      "accuracy of test data( random forest ):  61.53846153846154 %\n",
      "\n",
      "\n",
      "confusion_matrix:\n",
      "\n",
      "[[10  6]\n",
      " [ 4  6]]\n"
     ]
    },
    {
     "name": "stderr",
     "output_type": "stream",
     "text": [
      "c:\\python\\python37\\lib\\site-packages\\ipykernel_launcher.py:3: DataConversionWarning: A column-vector y was passed when a 1d array was expected. Please change the shape of y to (n_samples,), for example using ravel().\n",
      "  This is separate from the ipykernel package so we can avoid doing imports until\n"
     ]
    }
   ],
   "source": [
    "# random forest\n",
    "RF = RandomForestClassifier(max_depth=500)\n",
    "RF.fit(x_train,y_train)\n",
    "predictions = RF.predict(x_test)\n",
    "print('accuracy of training data( random forest ): ', format(RF.score(x_train,y_train)*100), '%')\n",
    "print('accuracy of test data( random forest ): ', format(RF.score(x_test,y_test)*100), '%\\n\\n')\n",
    "precisionScore['random forest'] = format(precision_score(y_test, predictions, average=\"macro\")*100,'.2f')\n",
    "recallScore['random forest'] = format(recall_score(y_test, predictions, average=\"macro\")*100,'.2f')\n",
    "f1Score['random forest'] = format(f1_score(y_test, predictions, average=\"macro\")*100,'.2f')\n",
    "cm = confusion_matrix(y_test, predictions)\n",
    "print('confusion_matrix:\\n')\n",
    "print(cm)"
   ]
  },
  {
   "cell_type": "code",
   "execution_count": 123,
   "metadata": {},
   "outputs": [
    {
     "name": "stdout",
     "output_type": "stream",
     "text": [
      "accuracy of training data( support vector classifier ):  49.01960784313725 %\n",
      "accuracy of test data( support vector classifier ):  61.53846153846154 %\n",
      "\n",
      "\n",
      "confusion_matrix:\n",
      "\n",
      "[[16  0]\n",
      " [10  0]]\n"
     ]
    },
    {
     "name": "stderr",
     "output_type": "stream",
     "text": [
      "c:\\python\\python37\\lib\\site-packages\\sklearn\\utils\\validation.py:578: DataConversionWarning: A column-vector y was passed when a 1d array was expected. Please change the shape of y to (n_samples, ), for example using ravel().\n",
      "  y = column_or_1d(y, warn=True)\n",
      "c:\\python\\python37\\lib\\site-packages\\sklearn\\metrics\\classification.py:1135: UndefinedMetricWarning: Precision is ill-defined and being set to 0.0 in labels with no predicted samples.\n",
      "  'precision', 'predicted', average, warn_for)\n",
      "c:\\python\\python37\\lib\\site-packages\\sklearn\\metrics\\classification.py:1135: UndefinedMetricWarning: F-score is ill-defined and being set to 0.0 in labels with no predicted samples.\n",
      "  'precision', 'predicted', average, warn_for)\n"
     ]
    }
   ],
   "source": [
    "# svm\n",
    "S = LinearSVC()\n",
    "S.fit(x_train,y_train)\n",
    "predictions = S.predict(x_test)\n",
    "print('accuracy of training data( support vector classifier ): ', format(S.score(x_train,y_train)*100), '%')\n",
    "print('accuracy of test data( support vector classifier ): ', format(S.score(x_test,y_test)*100), '%\\n\\n')\n",
    "precisionScore['support vector classifier'] = format(precision_score(y_test, predictions, average=\"macro\")*100,'.2f')\n",
    "recallScore['support vector classifier'] = format(recall_score(y_test, predictions, average=\"macro\")*100,'.2f')\n",
    "f1Score['support vector classifier'] = format(f1_score(y_test, predictions, average=\"macro\")*100,'.2f')\n",
    "cm = confusion_matrix(y_test, predictions)\n",
    "print('confusion_matrix:\\n')\n",
    "print(cm)"
   ]
  },
  {
   "cell_type": "code",
   "execution_count": 124,
   "metadata": {},
   "outputs": [
    {
     "name": "stdout",
     "output_type": "stream",
     "text": [
      "all score [precisionScore,recallScore,f1Score]:\n",
      "\n",
      "\n",
      "precisionScore:  {'logistic regression': '59.70', 'naive': '53.92', 'random forest': '60.71', 'support vector classifier': '30.77'}\n",
      "recallScore:  {'logistic regression': '60.00', 'naive': '53.75', 'random forest': '61.25', 'support vector classifier': '50.00'}\n",
      "f1Score:  {'logistic regression': '57.63', 'naive': '49.93', 'random forest': '60.61', 'support vector classifier': '38.10'} \n",
      "\n",
      "\n",
      "\n",
      "******** thank you **********\n"
     ]
    }
   ],
   "source": [
    "print('all score [precisionScore,recallScore,f1Score]:\\n\\n')\n",
    "print('precisionScore: ',precisionScore)\n",
    "print('recallScore: ',recallScore)\n",
    "print('f1Score: ',f1Score,'\\n\\n\\n')\n",
    "print('******** thank you **********')"
   ]
  },
  {
   "cell_type": "code",
   "execution_count": null,
   "metadata": {},
   "outputs": [],
   "source": []
  }
 ],
 "metadata": {
  "kernelspec": {
   "display_name": "Python 3",
   "language": "python",
   "name": "python3"
  },
  "language_info": {
   "codemirror_mode": {
    "name": "ipython",
    "version": 3
   },
   "file_extension": ".py",
   "mimetype": "text/x-python",
   "name": "python",
   "nbconvert_exporter": "python",
   "pygments_lexer": "ipython3",
   "version": "3.7.0b4"
  }
 },
 "nbformat": 4,
 "nbformat_minor": 2
}
